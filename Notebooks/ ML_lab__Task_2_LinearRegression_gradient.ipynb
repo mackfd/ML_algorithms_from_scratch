{
 "cells": [
  {
   "cell_type": "code",
   "execution_count": 1,
   "id": "fc5aff10",
   "metadata": {},
   "outputs": [],
   "source": [
    "import numpy as np\n",
    "import numpy.linalg as la\n",
    "import matplotlib.pyplot as plt\n",
    "import pandas as pd\n",
    "np.set_printoptions(suppress=True)"
   ]
  },
  {
   "cell_type": "markdown",
   "id": "d9416c78",
   "metadata": {},
   "source": [
    "<div class=\"alert-danger\">\n",
    "WARNING! \n",
    "    \n",
    "Model didn't converge. MSE increases. The error was not found.\n",
    "    \n",
    "</div>"
   ]
  },
  {
   "cell_type": "code",
   "execution_count": 2,
   "id": "91c25c95",
   "metadata": {},
   "outputs": [],
   "source": [
    "data = pd.read_csv('mllab-03-auto-mpg.csv')"
   ]
  },
  {
   "cell_type": "code",
   "execution_count": 3,
   "id": "ff97fe4a",
   "metadata": {},
   "outputs": [
    {
     "data": {
      "text/html": [
       "<div>\n",
       "<style scoped>\n",
       "    .dataframe tbody tr th:only-of-type {\n",
       "        vertical-align: middle;\n",
       "    }\n",
       "\n",
       "    .dataframe tbody tr th {\n",
       "        vertical-align: top;\n",
       "    }\n",
       "\n",
       "    .dataframe thead th {\n",
       "        text-align: right;\n",
       "    }\n",
       "</style>\n",
       "<table border=\"1\" class=\"dataframe\">\n",
       "  <thead>\n",
       "    <tr style=\"text-align: right;\">\n",
       "      <th></th>\n",
       "      <th>mpg</th>\n",
       "      <th>cylinders</th>\n",
       "      <th>displacement</th>\n",
       "      <th>horsepower</th>\n",
       "      <th>weight</th>\n",
       "      <th>acceleration</th>\n",
       "      <th>year</th>\n",
       "      <th>origin</th>\n",
       "      <th>name</th>\n",
       "    </tr>\n",
       "  </thead>\n",
       "  <tbody>\n",
       "    <tr>\n",
       "      <th>0</th>\n",
       "      <td>18.0</td>\n",
       "      <td>8.0</td>\n",
       "      <td>307.0</td>\n",
       "      <td>130.0</td>\n",
       "      <td>3504.0</td>\n",
       "      <td>12.0</td>\n",
       "      <td>70.0</td>\n",
       "      <td>1.0</td>\n",
       "      <td>chevrolet chevelle malibu</td>\n",
       "    </tr>\n",
       "    <tr>\n",
       "      <th>1</th>\n",
       "      <td>15.0</td>\n",
       "      <td>8.0</td>\n",
       "      <td>350.0</td>\n",
       "      <td>165.0</td>\n",
       "      <td>3693.0</td>\n",
       "      <td>11.5</td>\n",
       "      <td>70.0</td>\n",
       "      <td>1.0</td>\n",
       "      <td>buick skylark 320</td>\n",
       "    </tr>\n",
       "    <tr>\n",
       "      <th>2</th>\n",
       "      <td>18.0</td>\n",
       "      <td>8.0</td>\n",
       "      <td>318.0</td>\n",
       "      <td>150.0</td>\n",
       "      <td>3436.0</td>\n",
       "      <td>11.0</td>\n",
       "      <td>70.0</td>\n",
       "      <td>1.0</td>\n",
       "      <td>plymouth satellite</td>\n",
       "    </tr>\n",
       "    <tr>\n",
       "      <th>3</th>\n",
       "      <td>16.0</td>\n",
       "      <td>8.0</td>\n",
       "      <td>304.0</td>\n",
       "      <td>150.0</td>\n",
       "      <td>3433.0</td>\n",
       "      <td>12.0</td>\n",
       "      <td>70.0</td>\n",
       "      <td>1.0</td>\n",
       "      <td>amc rebel sst</td>\n",
       "    </tr>\n",
       "    <tr>\n",
       "      <th>4</th>\n",
       "      <td>17.0</td>\n",
       "      <td>8.0</td>\n",
       "      <td>302.0</td>\n",
       "      <td>140.0</td>\n",
       "      <td>3449.0</td>\n",
       "      <td>10.5</td>\n",
       "      <td>70.0</td>\n",
       "      <td>1.0</td>\n",
       "      <td>ford torino</td>\n",
       "    </tr>\n",
       "  </tbody>\n",
       "</table>\n",
       "</div>"
      ],
      "text/plain": [
       "    mpg  cylinders  displacement  horsepower  weight  acceleration  year  \\\n",
       "0  18.0        8.0         307.0       130.0  3504.0          12.0  70.0   \n",
       "1  15.0        8.0         350.0       165.0  3693.0          11.5  70.0   \n",
       "2  18.0        8.0         318.0       150.0  3436.0          11.0  70.0   \n",
       "3  16.0        8.0         304.0       150.0  3433.0          12.0  70.0   \n",
       "4  17.0        8.0         302.0       140.0  3449.0          10.5  70.0   \n",
       "\n",
       "   origin                       name  \n",
       "0     1.0  chevrolet chevelle malibu  \n",
       "1     1.0          buick skylark 320  \n",
       "2     1.0         plymouth satellite  \n",
       "3     1.0              amc rebel sst  \n",
       "4     1.0                ford torino  "
      ]
     },
     "execution_count": 3,
     "metadata": {},
     "output_type": "execute_result"
    }
   ],
   "source": [
    "data.head(5)"
   ]
  },
  {
   "cell_type": "code",
   "execution_count": 4,
   "id": "243149ca",
   "metadata": {},
   "outputs": [],
   "source": [
    "y = data['mpg']"
   ]
  },
  {
   "cell_type": "code",
   "execution_count": 5,
   "id": "800d3b3a",
   "metadata": {},
   "outputs": [],
   "source": [
    "x = data.drop(['mpg', 'name'], axis=1)"
   ]
  },
  {
   "cell_type": "code",
   "execution_count": 6,
   "id": "31e31c83",
   "metadata": {},
   "outputs": [],
   "source": [
    "y_train = y[0:int(len(y)*0.8)]\n",
    "y_test = y[int(len(y)*0.8):len(y)]"
   ]
  },
  {
   "cell_type": "code",
   "execution_count": 7,
   "id": "59d3b0d8",
   "metadata": {},
   "outputs": [],
   "source": [
    "x_train = x[0:int(len(x)*0.8)]\n",
    "x_test = x[int(len(x)*0.8):len(x)]"
   ]
  },
  {
   "cell_type": "code",
   "execution_count": 8,
   "id": "0db8d4c4",
   "metadata": {},
   "outputs": [],
   "source": [
    "class LinearRegression_grad:\n",
    "    \n",
    "    '''\n",
    "    lr - learning rate\n",
    "    epochs - number of iterations to go through all observations one time = epoch \n",
    "    batch_size - recommended 100-200 observations \n",
    "    '''\n",
    "    \n",
    "    def __init__(self, lr, epochs, batch_size):\n",
    "        self.lr = lr\n",
    "        self.epochs = epochs\n",
    "        self.batch_size = batch_size\n",
    "    \n",
    "    def train(self, x, y):\n",
    "\n",
    "        # adding bias to initial fratures set as a column \n",
    "        x_expanded = np.concatenate((np.ones((x.shape[0],1)),x.to_numpy()),axis=1)\n",
    "        \n",
    "        # initialize weights for the given features set\n",
    "        w = np.ones((x_expanded.shape[1],1))\n",
    "        #w = np.zeros(x_expanded.shape[1])\n",
    "        \n",
    "        # defining number of steps within one epoch \n",
    "        num_batches = x_expanded.shape[0]//self.batch_size\n",
    "        print('num_batches', num_batches)\n",
    "        \n",
    "        # nested loop, epochs plus number of batches as inner loop\n",
    "        # calculatting loss and adjusting weights \n",
    "        \n",
    "        for epoch in range(self.epochs):\n",
    "            print('epoch:', epoch)\n",
    "            for batch_num in range(num_batches):\n",
    "                print('batch_num:',batch_num)\n",
    "                \n",
    "                # defining batch indexes to get piece of data\n",
    "                start = batch_num * self.batch_size\n",
    "                end = (batch_num + 1) * self.batch_size\n",
    "                #print(start)\n",
    "                #print(end)\n",
    "                \n",
    "                # slicing data equal to batch size\n",
    "                x_expanded_batched = x_expanded[start:end]\n",
    "                y_batched = np.array(y[start:end]).reshape((-1, 1))\n",
    "                \n",
    "                # predict for the given batch\n",
    "                y_hat = x_expanded_batched.dot(w)\n",
    "                \n",
    "                error =  y_batched - y_hat\n",
    "                \n",
    "                mse = np.mean(error**2.)\n",
    "                print('mse:', mse)\n",
    "                \n",
    "                #gradient = (-2 * (x_expanded_batched.T.dot(error)))/self.batch_size\n",
    "                gradient = - (1./self.batch_size) * 2. * np.dot(x_expanded_batched.T, error)\n",
    "                \n",
    "                w -= gradient * self.lr\n",
    "              \n",
    "        self.w = w[1:]\n",
    "        self.w0 = w[0]\n",
    "        \n",
    "        print('w:', self.w)\n",
    "        print('w0:', self.w0)\n",
    "        \n",
    "        \n",
    "    def predict(self, x_test):\n",
    "        \n",
    "        y_hat = x_test.dot(self.w) + self.w0\n",
    "        \n",
    "        return y_hat"
   ]
  },
  {
   "cell_type": "code",
   "execution_count": 9,
   "id": "c94663ec",
   "metadata": {},
   "outputs": [
    {
     "name": "stdout",
     "output_type": "stream",
     "text": [
      "num_batches 3\n"
     ]
    }
   ],
   "source": [
    "lr, batch_size, epochs = 0.1, 100, 100\n",
    "x_expanded = np.concatenate((np.ones((x_train.shape[0],1)),x_train.to_numpy()),axis=1)\n",
    "        \n",
    "# initialize weights for the given features set\n",
    "w = np.ones((x_expanded.shape[1],1))\n",
    "#w = np.zeros(x_expanded.shape[1])\n",
    "\n",
    "# defining number of steps within one epoch \n",
    "num_batches = x_expanded.shape[0]//batch_size\n",
    "print('num_batches', num_batches)\n"
   ]
  },
  {
   "cell_type": "code",
   "execution_count": 10,
   "id": "1c14cd71",
   "metadata": {},
   "outputs": [
    {
     "name": "stdout",
     "output_type": "stream",
     "text": [
      "0\n",
      "100\n"
     ]
    }
   ],
   "source": [
    "batch_num = 0\n",
    "start = batch_num * batch_size\n",
    "end = (batch_num + 1) * batch_size\n",
    "print(start)\n",
    "print(end)"
   ]
  },
  {
   "cell_type": "code",
   "execution_count": 11,
   "id": "e093f06c",
   "metadata": {},
   "outputs": [],
   "source": [
    "model = LinearRegression_grad(0.1, 5, 100)"
   ]
  },
  {
   "cell_type": "code",
   "execution_count": 12,
   "id": "961d27c0",
   "metadata": {},
   "outputs": [
    {
     "name": "stdout",
     "output_type": "stream",
     "text": [
      "num_batches 3\n",
      "epoch: 0\n",
      "batch_num: 0\n",
      "mse: 15658462.85\n",
      "batch_num: 1\n",
      "mse: 7.629454832068942e+19\n",
      "batch_num: 2\n",
      "mse: 3.0215769810888485e+32\n",
      "epoch: 1\n",
      "batch_num: 0\n",
      "mse: 1.4490919351601428e+45\n",
      "batch_num: 1\n",
      "mse: 7.062258618868192e+57\n",
      "batch_num: 2\n",
      "mse: 2.796944025479325e+70\n",
      "epoch: 2\n",
      "batch_num: 0\n",
      "mse: 1.3413621614743942e+83\n",
      "batch_num: 1\n",
      "mse: 6.537229458011793e+95\n",
      "batch_num: 2\n",
      "mse: 2.5890109471385824e+108\n",
      "epoch: 3\n",
      "batch_num: 0\n",
      "mse: 1.2416413372947396e+121\n",
      "batch_num: 1\n",
      "mse: 6.0512325154054e+133\n",
      "batch_num: 2\n",
      "mse: 2.396536227876317e+146\n",
      "epoch: 4\n",
      "batch_num: 0\n",
      "mse: 1.1493340536641467e+159\n",
      "batch_num: 1\n",
      "mse: 5.601366020680605e+171\n",
      "batch_num: 2\n",
      "mse: 2.2183706476294838e+184\n",
      "w: [[-1.74162567e+92]\n",
      " [-6.33417982e+93]\n",
      " [-3.20447826e+93]\n",
      " [-9.32899984e+94]\n",
      " [-4.49954169e+92]\n",
      " [-2.24263173e+93]\n",
      " [-4.09033286e+91]]\n",
      "w0: [-2.88759394e+91]\n"
     ]
    }
   ],
   "source": [
    "model.train(x_train,y_train)"
   ]
  },
  {
   "cell_type": "code",
   "execution_count": 14,
   "id": "b2d659c6",
   "metadata": {},
   "outputs": [
    {
     "data": {
      "text/html": [
       "<div>\n",
       "<style scoped>\n",
       "    .dataframe tbody tr th:only-of-type {\n",
       "        vertical-align: middle;\n",
       "    }\n",
       "\n",
       "    .dataframe tbody tr th {\n",
       "        vertical-align: top;\n",
       "    }\n",
       "\n",
       "    .dataframe thead th {\n",
       "        text-align: right;\n",
       "    }\n",
       "</style>\n",
       "<table border=\"1\" class=\"dataframe\">\n",
       "  <thead>\n",
       "    <tr style=\"text-align: right;\">\n",
       "      <th></th>\n",
       "      <th>0</th>\n",
       "    </tr>\n",
       "  </thead>\n",
       "  <tbody>\n",
       "    <tr>\n",
       "      <th>313</th>\n",
       "      <td>-2.815840e+98</td>\n",
       "    </tr>\n",
       "    <tr>\n",
       "      <th>314</th>\n",
       "      <td>-3.173160e+98</td>\n",
       "    </tr>\n",
       "    <tr>\n",
       "      <th>315</th>\n",
       "      <td>-2.051702e+98</td>\n",
       "    </tr>\n",
       "    <tr>\n",
       "      <th>316</th>\n",
       "      <td>-2.542336e+98</td>\n",
       "    </tr>\n",
       "    <tr>\n",
       "      <th>317</th>\n",
       "      <td>-2.383317e+98</td>\n",
       "    </tr>\n",
       "    <tr>\n",
       "      <th>...</th>\n",
       "      <td>...</td>\n",
       "    </tr>\n",
       "    <tr>\n",
       "      <th>387</th>\n",
       "      <td>-2.616331e+98</td>\n",
       "    </tr>\n",
       "    <tr>\n",
       "      <th>388</th>\n",
       "      <td>-1.996845e+98</td>\n",
       "    </tr>\n",
       "    <tr>\n",
       "      <th>389</th>\n",
       "      <td>-2.154147e+98</td>\n",
       "    </tr>\n",
       "    <tr>\n",
       "      <th>390</th>\n",
       "      <td>-2.460925e+98</td>\n",
       "    </tr>\n",
       "    <tr>\n",
       "      <th>391</th>\n",
       "      <td>-2.549587e+98</td>\n",
       "    </tr>\n",
       "  </tbody>\n",
       "</table>\n",
       "<p>79 rows × 1 columns</p>\n",
       "</div>"
      ],
      "text/plain": [
       "                0\n",
       "313 -2.815840e+98\n",
       "314 -3.173160e+98\n",
       "315 -2.051702e+98\n",
       "316 -2.542336e+98\n",
       "317 -2.383317e+98\n",
       "..            ...\n",
       "387 -2.616331e+98\n",
       "388 -1.996845e+98\n",
       "389 -2.154147e+98\n",
       "390 -2.460925e+98\n",
       "391 -2.549587e+98\n",
       "\n",
       "[79 rows x 1 columns]"
      ]
     },
     "execution_count": 14,
     "metadata": {},
     "output_type": "execute_result"
    }
   ],
   "source": [
    "y_hat = model.predict(x_test)\n",
    "y_hat"
   ]
  },
  {
   "cell_type": "code",
   "execution_count": 16,
   "id": "f3fc152e",
   "metadata": {},
   "outputs": [
    {
     "data": {
      "text/plain": [
       "0     NaN\n",
       "313   NaN\n",
       "314   NaN\n",
       "315   NaN\n",
       "316   NaN\n",
       "       ..\n",
       "387   NaN\n",
       "388   NaN\n",
       "389   NaN\n",
       "390   NaN\n",
       "391   NaN\n",
       "Length: 80, dtype: float64"
      ]
     },
     "execution_count": 16,
     "metadata": {},
     "output_type": "execute_result"
    }
   ],
   "source": [
    "np.mean((y_test-y_hat)**2)"
   ]
  },
  {
   "cell_type": "code",
   "execution_count": null,
   "id": "f3565453",
   "metadata": {},
   "outputs": [],
   "source": []
  }
 ],
 "metadata": {
  "kernelspec": {
   "display_name": "Python 3",
   "language": "python",
   "name": "python3"
  },
  "language_info": {
   "codemirror_mode": {
    "name": "ipython",
    "version": 3
   },
   "file_extension": ".py",
   "mimetype": "text/x-python",
   "name": "python",
   "nbconvert_exporter": "python",
   "pygments_lexer": "ipython3",
   "version": "3.8.2"
  }
 },
 "nbformat": 4,
 "nbformat_minor": 5
}

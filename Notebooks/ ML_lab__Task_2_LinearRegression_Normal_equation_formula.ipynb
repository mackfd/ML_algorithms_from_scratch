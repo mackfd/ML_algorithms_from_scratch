{
 "cells": [
  {
   "cell_type": "code",
   "execution_count": 2,
   "id": "7de469cf",
   "metadata": {},
   "outputs": [],
   "source": [
    "# import libraries that we are going to use to construct Linear regression \n",
    "import numpy as np\n",
    "import pandas as pd\n",
    "from sklearn.metrics import r2_score"
   ]
  },
  {
   "cell_type": "code",
   "execution_count": 3,
   "id": "a5948806",
   "metadata": {},
   "outputs": [],
   "source": [
    "data = pd.read_csv('mllab-03-auto-mpg.csv')"
   ]
  },
  {
   "cell_type": "code",
   "execution_count": 4,
   "id": "78bdc730",
   "metadata": {},
   "outputs": [
    {
     "data": {
      "text/html": [
       "<div>\n",
       "<style scoped>\n",
       "    .dataframe tbody tr th:only-of-type {\n",
       "        vertical-align: middle;\n",
       "    }\n",
       "\n",
       "    .dataframe tbody tr th {\n",
       "        vertical-align: top;\n",
       "    }\n",
       "\n",
       "    .dataframe thead th {\n",
       "        text-align: right;\n",
       "    }\n",
       "</style>\n",
       "<table border=\"1\" class=\"dataframe\">\n",
       "  <thead>\n",
       "    <tr style=\"text-align: right;\">\n",
       "      <th></th>\n",
       "      <th>mpg</th>\n",
       "      <th>cylinders</th>\n",
       "      <th>displacement</th>\n",
       "      <th>horsepower</th>\n",
       "      <th>weight</th>\n",
       "      <th>acceleration</th>\n",
       "      <th>year</th>\n",
       "      <th>origin</th>\n",
       "      <th>name</th>\n",
       "    </tr>\n",
       "  </thead>\n",
       "  <tbody>\n",
       "    <tr>\n",
       "      <th>0</th>\n",
       "      <td>18.0</td>\n",
       "      <td>8.0</td>\n",
       "      <td>307.0</td>\n",
       "      <td>130.0</td>\n",
       "      <td>3504.0</td>\n",
       "      <td>12.0</td>\n",
       "      <td>70.0</td>\n",
       "      <td>1.0</td>\n",
       "      <td>chevrolet chevelle malibu</td>\n",
       "    </tr>\n",
       "    <tr>\n",
       "      <th>1</th>\n",
       "      <td>15.0</td>\n",
       "      <td>8.0</td>\n",
       "      <td>350.0</td>\n",
       "      <td>165.0</td>\n",
       "      <td>3693.0</td>\n",
       "      <td>11.5</td>\n",
       "      <td>70.0</td>\n",
       "      <td>1.0</td>\n",
       "      <td>buick skylark 320</td>\n",
       "    </tr>\n",
       "    <tr>\n",
       "      <th>2</th>\n",
       "      <td>18.0</td>\n",
       "      <td>8.0</td>\n",
       "      <td>318.0</td>\n",
       "      <td>150.0</td>\n",
       "      <td>3436.0</td>\n",
       "      <td>11.0</td>\n",
       "      <td>70.0</td>\n",
       "      <td>1.0</td>\n",
       "      <td>plymouth satellite</td>\n",
       "    </tr>\n",
       "    <tr>\n",
       "      <th>3</th>\n",
       "      <td>16.0</td>\n",
       "      <td>8.0</td>\n",
       "      <td>304.0</td>\n",
       "      <td>150.0</td>\n",
       "      <td>3433.0</td>\n",
       "      <td>12.0</td>\n",
       "      <td>70.0</td>\n",
       "      <td>1.0</td>\n",
       "      <td>amc rebel sst</td>\n",
       "    </tr>\n",
       "    <tr>\n",
       "      <th>4</th>\n",
       "      <td>17.0</td>\n",
       "      <td>8.0</td>\n",
       "      <td>302.0</td>\n",
       "      <td>140.0</td>\n",
       "      <td>3449.0</td>\n",
       "      <td>10.5</td>\n",
       "      <td>70.0</td>\n",
       "      <td>1.0</td>\n",
       "      <td>ford torino</td>\n",
       "    </tr>\n",
       "  </tbody>\n",
       "</table>\n",
       "</div>"
      ],
      "text/plain": [
       "    mpg  cylinders  displacement  horsepower  weight  acceleration  year  \\\n",
       "0  18.0        8.0         307.0       130.0  3504.0          12.0  70.0   \n",
       "1  15.0        8.0         350.0       165.0  3693.0          11.5  70.0   \n",
       "2  18.0        8.0         318.0       150.0  3436.0          11.0  70.0   \n",
       "3  16.0        8.0         304.0       150.0  3433.0          12.0  70.0   \n",
       "4  17.0        8.0         302.0       140.0  3449.0          10.5  70.0   \n",
       "\n",
       "   origin                       name  \n",
       "0     1.0  chevrolet chevelle malibu  \n",
       "1     1.0          buick skylark 320  \n",
       "2     1.0         plymouth satellite  \n",
       "3     1.0              amc rebel sst  \n",
       "4     1.0                ford torino  "
      ]
     },
     "execution_count": 4,
     "metadata": {},
     "output_type": "execute_result"
    }
   ],
   "source": [
    "data.head(5)"
   ]
  },
  {
   "cell_type": "code",
   "execution_count": 5,
   "id": "ae5803c8",
   "metadata": {},
   "outputs": [
    {
     "data": {
      "text/plain": [
       "392"
      ]
     },
     "execution_count": 5,
     "metadata": {},
     "output_type": "execute_result"
    }
   ],
   "source": [
    "len(data)"
   ]
  },
  {
   "cell_type": "code",
   "execution_count": 9,
   "id": "f04554a6",
   "metadata": {},
   "outputs": [],
   "source": [
    "y = data['mpg']"
   ]
  },
  {
   "cell_type": "code",
   "execution_count": 10,
   "id": "8f46ab76",
   "metadata": {},
   "outputs": [],
   "source": [
    "x = data.drop(['mpg', 'name'], axis=1)"
   ]
  },
  {
   "cell_type": "code",
   "execution_count": 18,
   "id": "36db9c26",
   "metadata": {},
   "outputs": [],
   "source": [
    "y_train = y[0:int(len(y)*0.8)]\n",
    "y_test = y[int(len(y)*0.8):len(y)]"
   ]
  },
  {
   "cell_type": "code",
   "execution_count": 19,
   "id": "8f29187d",
   "metadata": {},
   "outputs": [],
   "source": [
    "x_train = x[0:int(len(x)*0.8)]\n",
    "x_test = x[int(len(x)*0.8):len(x)]"
   ]
  },
  {
   "cell_type": "markdown",
   "id": "ddb039e6",
   "metadata": {},
   "source": [
    "# Normal equation formula approach"
   ]
  },
  {
   "cell_type": "code",
   "execution_count": 27,
   "id": "5f3d5982",
   "metadata": {},
   "outputs": [],
   "source": [
    "class LinearRegression_NEF:\n",
    "    def fit(self, train, target):\n",
    "        # to initial matrix of features i am adding one column of 1s that related to w0 or so called bias\n",
    "        # to get correct number of 1s use the shape of training dataset\n",
    "        # particularly the number of rows -> train.shape[0]\n",
    "        # to add a column apply np.ones from numpy. BUT! \n",
    "        # use two brakets to get a column of 1s\n",
    "        \n",
    "        train_expanded = np.concatenate((np.ones((train.shape[0],1)),train.to_numpy()),axis=1)\n",
    "        \n",
    "        # this is \"Normal equation formula\" \n",
    "        # applying this will give us the best weights (vector of w) for predictions \n",
    "        \n",
    "        self.w_best = np.linalg.inv(train_expanded.T.dot(train_expanded)).dot(train_expanded.T).dot(target)\n",
    "        \n",
    "        print('w best is: ', self.w_best)\n",
    "        \n",
    "    def predict(self, features):\n",
    "        # here we are doing prediction \n",
    "        # first we need to transform input matrix\n",
    "        # we have to add w0 column consisting of 1s like in a model training steps\n",
    "        \n",
    "        features_expanded = np.concatenate((np.ones((features.shape[0],1)),features.to_numpy()),axis=1)\n",
    "        \n",
    "        # to predict we simply multiply  modified (expanded by w0 = 1) input matrix by best weights w_best\n",
    "        y_hat = features_expanded.dot(self.w_best)\n",
    "        \n",
    "        return y_hat"
   ]
  },
  {
   "cell_type": "code",
   "execution_count": 28,
   "id": "896d033b",
   "metadata": {},
   "outputs": [],
   "source": [
    "model = LinearRegression_NEF()"
   ]
  },
  {
   "cell_type": "code",
   "execution_count": 29,
   "id": "6ee671f9",
   "metadata": {},
   "outputs": [
    {
     "name": "stdout",
     "output_type": "stream",
     "text": [
      "w best is:  [-1.58281033 -0.51948961  0.01021389 -0.01776699 -0.00557234 -0.11267481\n",
      "  0.58200751  0.84802524]\n"
     ]
    }
   ],
   "source": [
    "model.fit(x_train, y_train)"
   ]
  },
  {
   "cell_type": "code",
   "execution_count": 30,
   "id": "09916e62",
   "metadata": {},
   "outputs": [],
   "source": [
    "y_hat = model.predict(x_test)"
   ]
  },
  {
   "cell_type": "code",
   "execution_count": 31,
   "id": "76ff8803",
   "metadata": {},
   "outputs": [
    {
     "name": "stdout",
     "output_type": "stream",
     "text": [
      "0.24143714944968242\n"
     ]
    }
   ],
   "source": [
    "print(r2_score(y_test, y_hat))"
   ]
  },
  {
   "cell_type": "code",
   "execution_count": 34,
   "id": "dd3fa62b",
   "metadata": {},
   "outputs": [
    {
     "data": {
      "text/plain": [
       "2169.5558147563365"
      ]
     },
     "execution_count": 34,
     "metadata": {},
     "output_type": "execute_result"
    }
   ],
   "source": [
    "residuals = (y_test - y_hat) \n",
    "rss"
   ]
  },
  {
   "cell_type": "markdown",
   "id": "63c94be2",
   "metadata": {},
   "source": [
    "# Additional info"
   ]
  },
  {
   "cell_type": "markdown",
   "id": "9bf05d1c",
   "metadata": {},
   "source": [
    "# 1. functions"
   ]
  },
  {
   "cell_type": "code",
   "execution_count": 30,
   "id": "17993326",
   "metadata": {},
   "outputs": [
    {
     "data": {
      "text/plain": [
       "array([[1.],\n",
       "       [1.],\n",
       "       [1.],\n",
       "       [1.],\n",
       "       [1.]])"
      ]
     },
     "execution_count": 30,
     "metadata": {},
     "output_type": "execute_result"
    }
   ],
   "source": [
    "# to get a column\n",
    "np.ones((5,1))"
   ]
  },
  {
   "cell_type": "code",
   "execution_count": 32,
   "id": "1799f6f8",
   "metadata": {},
   "outputs": [
    {
     "data": {
      "text/plain": [
       "array([1., 1., 1., 1., 1.])"
      ]
     },
     "execution_count": 32,
     "metadata": {},
     "output_type": "execute_result"
    }
   ],
   "source": [
    "# to get a row\n",
    "np.ones(5)"
   ]
  },
  {
   "cell_type": "code",
   "execution_count": 41,
   "id": "7d8639b2",
   "metadata": {},
   "outputs": [
    {
     "name": "stdout",
     "output_type": "stream",
     "text": [
      "[[ 2  2]\n",
      " [-4 -4]]\n",
      "--------\n",
      "[[ 2  2]\n",
      " [-4 -4]]\n"
     ]
    }
   ],
   "source": [
    "# matrix multiplication -> .dot() or @ \n",
    "A = np.array([\n",
    "    [1, 1, 1], \n",
    "    [-2, -2, -2]])\n",
    "\n",
    "B = np.array([\n",
    "    [1, 0], \n",
    "    [0, 1],\n",
    "    [1, 1]])\n",
    "\n",
    "print(A.dot(B))\n",
    "print('--------') \n",
    "print(A @ B) "
   ]
  },
  {
   "cell_type": "code",
   "execution_count": 46,
   "id": "f3670017",
   "metadata": {},
   "outputs": [
    {
     "name": "stdout",
     "output_type": "stream",
     "text": [
      "[[ 1  2  1]\n",
      " [-2 -2 -2]\n",
      " [-4 -3 -3]]\n",
      "--------\n",
      "[[-0.   1.5 -1. ]\n",
      " [ 1.   0.5  0. ]\n",
      " [-1.  -2.5  1. ]]\n"
     ]
    }
   ],
   "source": [
    "# to get inverted matrix !!! only for square matrix and non singular \n",
    "A = np.array([\n",
    "    [1,  2, 1], \n",
    "    [-2,-2,-2],\n",
    "    [-4,-3,-3]])\n",
    "B = np.linalg.inv(A)\n",
    "\n",
    "print(A)\n",
    "print('--------') \n",
    "print(B)"
   ]
  },
  {
   "cell_type": "code",
   "execution_count": 47,
   "id": "d31c7d93",
   "metadata": {},
   "outputs": [
    {
     "name": "stdout",
     "output_type": "stream",
     "text": [
      "[[ 1  2  1]\n",
      " [-2 -2 -2]\n",
      " [-4 -3 -3]]\n",
      "--------\n",
      "[[ 1 -2 -4]\n",
      " [ 2 -2 -3]\n",
      " [ 1 -2 -3]]\n"
     ]
    }
   ],
   "source": [
    "# to transponse matrix use .T\n",
    "A = np.array([\n",
    "    [1,  2, 1], \n",
    "    [-2,-2,-2],\n",
    "    [-4,-3,-3]])\n",
    "B = A.T\n",
    "print(A)\n",
    "print('--------') \n",
    "print(B)"
   ]
  },
  {
   "cell_type": "markdown",
   "id": "4e78ae88",
   "metadata": {},
   "source": [
    "# 2. theory"
   ]
  },
  {
   "attachments": {
    "image.png": {
     "image/png": "[encoded data removed]"
    }
   },
   "cell_type": "markdown",
   "id": "e17cf5cb",
   "metadata": {},
   "source": [
    "Normal equation formula\n",
    "![image.png](attachment:image.png)"
   ]
  }
 ],
 "metadata": {
  "kernelspec": {
   "display_name": "Python 3",
   "language": "python",
   "name": "python3"
  },
  "language_info": {
   "codemirror_mode": {
    "name": "ipython",
    "version": 3
   },
   "file_extension": ".py",
   "mimetype": "text/x-python",
   "name": "python",
   "nbconvert_exporter": "python",
   "pygments_lexer": "ipython3",
   "version": "3.8.2"
  }
 },
 "nbformat": 4,
 "nbformat_minor": 5
}

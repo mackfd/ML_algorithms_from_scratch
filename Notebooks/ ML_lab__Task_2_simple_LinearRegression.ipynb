{
 "cells": [
  {
   "cell_type": "code",
   "execution_count": 1,
   "id": "a1d061c3",
   "metadata": {},
   "outputs": [],
   "source": [
    "import numpy as np\n",
    "import numpy.linalg as la\n",
    "import matplotlib.pyplot as plt\n",
    "import pandas as pd\n",
    "%matplotlib inline"
   ]
  },
  {
   "cell_type": "code",
   "execution_count": 18,
   "id": "a26fe61a",
   "metadata": {},
   "outputs": [],
   "source": [
    "df = pd.read_csv('mllab-03-auto-mpg.csv')"
   ]
  },
  {
   "cell_type": "code",
   "execution_count": 19,
   "id": "842ec8e1",
   "metadata": {},
   "outputs": [
    {
     "data": {
      "text/html": [
       "<div>\n",
       "<style scoped>\n",
       "    .dataframe tbody tr th:only-of-type {\n",
       "        vertical-align: middle;\n",
       "    }\n",
       "\n",
       "    .dataframe tbody tr th {\n",
       "        vertical-align: top;\n",
       "    }\n",
       "\n",
       "    .dataframe thead th {\n",
       "        text-align: right;\n",
       "    }\n",
       "</style>\n",
       "<table border=\"1\" class=\"dataframe\">\n",
       "  <thead>\n",
       "    <tr style=\"text-align: right;\">\n",
       "      <th></th>\n",
       "      <th>mpg</th>\n",
       "      <th>cylinders</th>\n",
       "      <th>displacement</th>\n",
       "      <th>horsepower</th>\n",
       "      <th>weight</th>\n",
       "      <th>acceleration</th>\n",
       "      <th>year</th>\n",
       "      <th>origin</th>\n",
       "      <th>name</th>\n",
       "    </tr>\n",
       "  </thead>\n",
       "  <tbody>\n",
       "    <tr>\n",
       "      <th>0</th>\n",
       "      <td>18.0</td>\n",
       "      <td>8.0</td>\n",
       "      <td>307.0</td>\n",
       "      <td>130.0</td>\n",
       "      <td>3504.0</td>\n",
       "      <td>12.0</td>\n",
       "      <td>70.0</td>\n",
       "      <td>1.0</td>\n",
       "      <td>chevrolet chevelle malibu</td>\n",
       "    </tr>\n",
       "    <tr>\n",
       "      <th>1</th>\n",
       "      <td>15.0</td>\n",
       "      <td>8.0</td>\n",
       "      <td>350.0</td>\n",
       "      <td>165.0</td>\n",
       "      <td>3693.0</td>\n",
       "      <td>11.5</td>\n",
       "      <td>70.0</td>\n",
       "      <td>1.0</td>\n",
       "      <td>buick skylark 320</td>\n",
       "    </tr>\n",
       "    <tr>\n",
       "      <th>2</th>\n",
       "      <td>18.0</td>\n",
       "      <td>8.0</td>\n",
       "      <td>318.0</td>\n",
       "      <td>150.0</td>\n",
       "      <td>3436.0</td>\n",
       "      <td>11.0</td>\n",
       "      <td>70.0</td>\n",
       "      <td>1.0</td>\n",
       "      <td>plymouth satellite</td>\n",
       "    </tr>\n",
       "    <tr>\n",
       "      <th>3</th>\n",
       "      <td>16.0</td>\n",
       "      <td>8.0</td>\n",
       "      <td>304.0</td>\n",
       "      <td>150.0</td>\n",
       "      <td>3433.0</td>\n",
       "      <td>12.0</td>\n",
       "      <td>70.0</td>\n",
       "      <td>1.0</td>\n",
       "      <td>amc rebel sst</td>\n",
       "    </tr>\n",
       "    <tr>\n",
       "      <th>4</th>\n",
       "      <td>17.0</td>\n",
       "      <td>8.0</td>\n",
       "      <td>302.0</td>\n",
       "      <td>140.0</td>\n",
       "      <td>3449.0</td>\n",
       "      <td>10.5</td>\n",
       "      <td>70.0</td>\n",
       "      <td>1.0</td>\n",
       "      <td>ford torino</td>\n",
       "    </tr>\n",
       "  </tbody>\n",
       "</table>\n",
       "</div>"
      ],
      "text/plain": [
       "    mpg  cylinders  displacement  horsepower  weight  acceleration  year  \\\n",
       "0  18.0        8.0         307.0       130.0  3504.0          12.0  70.0   \n",
       "1  15.0        8.0         350.0       165.0  3693.0          11.5  70.0   \n",
       "2  18.0        8.0         318.0       150.0  3436.0          11.0  70.0   \n",
       "3  16.0        8.0         304.0       150.0  3433.0          12.0  70.0   \n",
       "4  17.0        8.0         302.0       140.0  3449.0          10.5  70.0   \n",
       "\n",
       "   origin                       name  \n",
       "0     1.0  chevrolet chevelle malibu  \n",
       "1     1.0          buick skylark 320  \n",
       "2     1.0         plymouth satellite  \n",
       "3     1.0              amc rebel sst  \n",
       "4     1.0                ford torino  "
      ]
     },
     "execution_count": 19,
     "metadata": {},
     "output_type": "execute_result"
    }
   ],
   "source": [
    "df.head(5)"
   ]
  },
  {
   "cell_type": "code",
   "execution_count": 20,
   "id": "2269c6a5",
   "metadata": {},
   "outputs": [],
   "source": [
    "y = df['mpg']"
   ]
  },
  {
   "cell_type": "code",
   "execution_count": 21,
   "id": "d9fa9693",
   "metadata": {},
   "outputs": [],
   "source": [
    "x = df.drop(['name','mpg'], axis = 1)"
   ]
  },
  {
   "cell_type": "code",
   "execution_count": 22,
   "id": "a3f861e0",
   "metadata": {},
   "outputs": [],
   "source": [
    "y_train = y[0:int(0.8*len(y))]"
   ]
  },
  {
   "cell_type": "code",
   "execution_count": 23,
   "id": "a3235a8d",
   "metadata": {},
   "outputs": [],
   "source": [
    "y_test = y[int(0.8*len(y)):len(y)]"
   ]
  },
  {
   "cell_type": "code",
   "execution_count": 24,
   "id": "dcbade30",
   "metadata": {},
   "outputs": [],
   "source": [
    "x_train = x[0:int(0.8*len(x))]"
   ]
  },
  {
   "cell_type": "code",
   "execution_count": 25,
   "id": "c0b070b9",
   "metadata": {},
   "outputs": [],
   "source": [
    "x_test = x[int(0.8*len(x)):len(x)]"
   ]
  },
  {
   "cell_type": "code",
   "execution_count": 18,
   "id": "e2543504",
   "metadata": {},
   "outputs": [
    {
     "data": {
      "text/plain": [
       "Index(['cylinders', 'displacement', 'horsepower', 'weight', 'acceleration',\n",
       "       'year', 'origin'],\n",
       "      dtype='object')"
      ]
     },
     "execution_count": 18,
     "metadata": {},
     "output_type": "execute_result"
    }
   ],
   "source": [
    "x.columns"
   ]
  },
  {
   "cell_type": "markdown",
   "id": "a88ec4e1",
   "metadata": {},
   "source": [
    "## Calculate weightts for each feature (a.k.a column)"
   ]
  },
  {
   "cell_type": "code",
   "execution_count": 28,
   "id": "0bb77737",
   "metadata": {},
   "outputs": [],
   "source": [
    "y_mean= y.mean()"
   ]
  },
  {
   "cell_type": "code",
   "execution_count": 24,
   "id": "95c45d2f",
   "metadata": {},
   "outputs": [],
   "source": [
    "x_means = {}\n",
    "for col in x.columns:\n",
    "    x_means[col] = x[col].mean()\n"
   ]
  },
  {
   "cell_type": "code",
   "execution_count": 26,
   "id": "1d3ec4fd",
   "metadata": {},
   "outputs": [],
   "source": [
    "n_var_x = {}\n",
    "for col in x.columns:\n",
    "    n_var_x[col] = np.sum((x[col]-x_means[col])**2.)"
   ]
  },
  {
   "cell_type": "code",
   "execution_count": 29,
   "id": "96e7b78e",
   "metadata": {},
   "outputs": [],
   "source": [
    "n_cov_xy = {}\n",
    "for col in x.columns:\n",
    "    n_cov_xy[col] = np.sum((x[col] - x_means[col])*(y-y_mean))"
   ]
  },
  {
   "cell_type": "code",
   "execution_count": 30,
   "id": "2f02d45b",
   "metadata": {},
   "outputs": [],
   "source": [
    "col_w = {}\n",
    "for col in x.columns:\n",
    "    col_w[col] = n_cov_xy[col]/n_var_x[col]"
   ]
  },
  {
   "cell_type": "markdown",
   "id": "6dbf6b27",
   "metadata": {},
   "source": [
    "## Calculate bias (a.k.a w0)"
   ]
  },
  {
   "cell_type": "code",
   "execution_count": 65,
   "id": "27feaea5",
   "metadata": {},
   "outputs": [],
   "source": [
    "w_0 = {}\n",
    "for col in x.columns:\n",
    "    w_0[col] = y_mean-x[col].mean() * col_w[col]"
   ]
  },
  {
   "cell_type": "code",
   "execution_count": 128,
   "id": "e1e1135b",
   "metadata": {},
   "outputs": [
    {
     "data": {
      "text/plain": [
       "313    24.3\n",
       "314    19.1\n",
       "315    34.3\n",
       "316    29.8\n",
       "317    31.3\n",
       "       ... \n",
       "387    27.0\n",
       "388    44.0\n",
       "389    32.0\n",
       "390    28.0\n",
       "391    31.0\n",
       "Name: mpg, Length: 79, dtype: float64"
      ]
     },
     "execution_count": 128,
     "metadata": {},
     "output_type": "execute_result"
    }
   ],
   "source": [
    "y_test"
   ]
  },
  {
   "cell_type": "markdown",
   "id": "1aeecfca",
   "metadata": {},
   "source": [
    "## Linear Regression Class"
   ]
  },
  {
   "cell_type": "code",
   "execution_count": 48,
   "id": "72460a70",
   "metadata": {},
   "outputs": [],
   "source": [
    "class LinearRegression_w:\n",
    "    \n",
    "    def __init__(self):\n",
    "        \n",
    "        self.w0 = float()\n",
    "        self.w_0 = {}\n",
    "        self.x_means = {}\n",
    "        self.y_mean= y.mean()\n",
    "        self.n_var_x = {}\n",
    "        self.n_cov_xy = {}\n",
    "        self.col_w = {}\n",
    "    \n",
    "    def train(self, x, y):\n",
    "\n",
    "        for col in x.columns:\n",
    "            self.x_means[col] = x[col].mean()\n",
    "            #print('x means: ', self.x_means)\n",
    "                \n",
    "        for col in x.columns:\n",
    "            self.n_var_x[col] = sum((x[col]-self.x_means[col])**2.)\n",
    "            self.n_cov_xy[col] = sum((x[col] - self.x_means[col])*(y-self.y_mean))\n",
    "            #print('n_var_x: ', self.n_var_x)\n",
    "            #print('n_cov_xy: ', self.n_cov_xy)\n",
    "        \n",
    "        for col in x.columns:\n",
    "            self.col_w[col] = self.n_cov_xy[col]/self.n_var_x[col]\n",
    "        \n",
    "        '''for col in x.columns:\n",
    "            self.w_0[col] = self.y_mean-x[col].mean() * self.col_w[col]\n",
    "        self.w0 = np.sum(self.w_0.values())'''\n",
    "        \n",
    "        for col in x.columns:\n",
    "            self.w_0[col] = x[col].mean() * self.col_w[col]\n",
    "        self.w0 = self.y_mean - sum(self.w_0.values())\n",
    "        \n",
    "        print('calculated w_n: ',self.col_w)\n",
    "        print('calculated w0: ',self.w0)\n",
    "    def predict(self, x_test):\n",
    "        y_hat = x_test@np.array(list(self.col_w.values())).T + self.w0\n",
    "        #y_hat = features_expanded.dot(self.w_best)\n",
    "        \n",
    "        return y_hat"
   ]
  },
  {
   "cell_type": "code",
   "execution_count": 137,
   "id": "76988486",
   "metadata": {},
   "outputs": [],
   "source": [
    "model = LinearRegression_w()"
   ]
  },
  {
   "cell_type": "code",
   "execution_count": 138,
   "id": "d455b079",
   "metadata": {},
   "outputs": [],
   "source": [
    "model.train(x_train, y_train)"
   ]
  },
  {
   "cell_type": "code",
   "execution_count": 140,
   "id": "3247e429",
   "metadata": {},
   "outputs": [],
   "source": [
    "y_hat = model.predict(x_test)"
   ]
  },
  {
   "cell_type": "code",
   "execution_count": 141,
   "id": "f241e468",
   "metadata": {},
   "outputs": [],
   "source": [
    "residuals = (y_test - y_hat) \n",
    "rss = np.sum(residuals**2)"
   ]
  },
  {
   "cell_type": "code",
   "execution_count": 142,
   "id": "2453d928",
   "metadata": {},
   "outputs": [
    {
     "data": {
      "text/plain": [
       "30672.623346697175"
      ]
     },
     "execution_count": 142,
     "metadata": {},
     "output_type": "execute_result"
    }
   ],
   "source": [
    "rss"
   ]
  },
  {
   "cell_type": "markdown",
   "id": "f2689611",
   "metadata": {},
   "source": [
    "#### Simple experiment"
   ]
  },
  {
   "cell_type": "code",
   "execution_count": 5,
   "id": "f505f519",
   "metadata": {},
   "outputs": [
    {
     "name": "stdout",
     "output_type": "stream",
     "text": [
      "Independent variables: [[ 5]\n",
      " [ 7]\n",
      " [15]\n",
      " [28]] <class 'numpy.ndarray'>\n",
      "Dependent variable: [[ 30530]\n",
      " [ 90000]\n",
      " [159899]\n",
      " [270564]] <class 'numpy.ndarray'>\n"
     ]
    }
   ],
   "source": [
    "''' Data '''\n",
    "data = np.array([[5,30530, 50],[7,90000, 79],[15,159899, 124],[28,270564, 300]])\n",
    "X = data[:,[0]]\n",
    "y = data[:,[1]]\n",
    "print (\"Independent variables:\", X, type(X))\n",
    "print (\"Dependent variable:\", y, type(y))"
   ]
  },
  {
   "cell_type": "code",
   "execution_count": 11,
   "id": "dc0eefdb",
   "metadata": {},
   "outputs": [
    {
     "data": {
      "text/html": [
       "<div>\n",
       "<style scoped>\n",
       "    .dataframe tbody tr th:only-of-type {\n",
       "        vertical-align: middle;\n",
       "    }\n",
       "\n",
       "    .dataframe tbody tr th {\n",
       "        vertical-align: top;\n",
       "    }\n",
       "\n",
       "    .dataframe thead th {\n",
       "        text-align: right;\n",
       "    }\n",
       "</style>\n",
       "<table border=\"1\" class=\"dataframe\">\n",
       "  <thead>\n",
       "    <tr style=\"text-align: right;\">\n",
       "      <th></th>\n",
       "      <th>Age</th>\n",
       "      <th>Mileage</th>\n",
       "      <th>Stopping Distance</th>\n",
       "    </tr>\n",
       "  </thead>\n",
       "  <tbody>\n",
       "    <tr>\n",
       "      <th>0</th>\n",
       "      <td>5</td>\n",
       "      <td>30530</td>\n",
       "      <td>50</td>\n",
       "    </tr>\n",
       "    <tr>\n",
       "      <th>1</th>\n",
       "      <td>7</td>\n",
       "      <td>90000</td>\n",
       "      <td>79</td>\n",
       "    </tr>\n",
       "    <tr>\n",
       "      <th>2</th>\n",
       "      <td>15</td>\n",
       "      <td>159899</td>\n",
       "      <td>124</td>\n",
       "    </tr>\n",
       "    <tr>\n",
       "      <th>3</th>\n",
       "      <td>28</td>\n",
       "      <td>270564</td>\n",
       "      <td>300</td>\n",
       "    </tr>\n",
       "  </tbody>\n",
       "</table>\n",
       "</div>"
      ],
      "text/plain": [
       "   Age  Mileage  Stopping Distance\n",
       "0    5    30530                 50\n",
       "1    7    90000                 79\n",
       "2   15   159899                124\n",
       "3   28   270564                300"
      ]
     },
     "execution_count": 11,
     "metadata": {},
     "output_type": "execute_result"
    }
   ],
   "source": [
    "dataset = pd.DataFrame({'Age': data[:, 0], 'Mileage': data[:, 1],'Stopping Distance': data[:, 2]})\n",
    "dataset"
   ]
  },
  {
   "cell_type": "code",
   "execution_count": 45,
   "id": "a8cd8935",
   "metadata": {},
   "outputs": [],
   "source": [
    "X = dataset['Age']\n",
    "y = dataset['Mileage']"
   ]
  },
  {
   "cell_type": "code",
   "execution_count": 46,
   "id": "7814b7b9",
   "metadata": {},
   "outputs": [
    {
     "data": {
      "text/html": [
       "<div>\n",
       "<style scoped>\n",
       "    .dataframe tbody tr th:only-of-type {\n",
       "        vertical-align: middle;\n",
       "    }\n",
       "\n",
       "    .dataframe tbody tr th {\n",
       "        vertical-align: top;\n",
       "    }\n",
       "\n",
       "    .dataframe thead th {\n",
       "        text-align: right;\n",
       "    }\n",
       "</style>\n",
       "<table border=\"1\" class=\"dataframe\">\n",
       "  <thead>\n",
       "    <tr style=\"text-align: right;\">\n",
       "      <th></th>\n",
       "      <th>Age</th>\n",
       "    </tr>\n",
       "  </thead>\n",
       "  <tbody>\n",
       "    <tr>\n",
       "      <th>0</th>\n",
       "      <td>5</td>\n",
       "    </tr>\n",
       "    <tr>\n",
       "      <th>1</th>\n",
       "      <td>7</td>\n",
       "    </tr>\n",
       "    <tr>\n",
       "      <th>2</th>\n",
       "      <td>15</td>\n",
       "    </tr>\n",
       "    <tr>\n",
       "      <th>3</th>\n",
       "      <td>28</td>\n",
       "    </tr>\n",
       "  </tbody>\n",
       "</table>\n",
       "</div>"
      ],
      "text/plain": [
       "   Age\n",
       "0    5\n",
       "1    7\n",
       "2   15\n",
       "3   28"
      ]
     },
     "execution_count": 46,
     "metadata": {},
     "output_type": "execute_result"
    }
   ],
   "source": [
    "X = X.to_frame()\n",
    "X"
   ]
  },
  {
   "cell_type": "code",
   "execution_count": 49,
   "id": "892a3e89",
   "metadata": {},
   "outputs": [
    {
     "name": "stdout",
     "output_type": "stream",
     "text": [
      "x means:  {'Age': 13.75}\n",
      "n_var_x:  {'Age': 326.75}\n",
      "n_cov_xy:  {'Age': 3180773.25}\n",
      "calculated w_n:  {'Age': 9734.57765876052}\n",
      "calculated w0:  3897.8071920428483\n"
     ]
    }
   ],
   "source": [
    "model_2 = LinearRegression_w()\n",
    "model_2.train(X, y)"
   ]
  },
  {
   "cell_type": "code",
   "execution_count": 5,
   "id": "ab1601f5",
   "metadata": {},
   "outputs": [
    {
     "name": "stdout",
     "output_type": "stream",
     "text": [
      "3897.8071920428483 9734.57765876052\n"
     ]
    }
   ],
   "source": [
    "def w0_estimate1D(x, y, w1):\n",
    "    x_mean = np.mean(x, axis=0)\n",
    "    y_mean = np.mean(y, axis=0)\n",
    "    return float(y_mean - x_mean * w1)\n",
    "\n",
    "def w1_estimate1D(x, y):\n",
    "    x_mean = np.mean(x, axis=0)\n",
    "    y_mean = np.mean(y, axis=0)\n",
    "    ncov_xy = np.sum((x-x_mean)*(y-y_mean)) # OR (x1.T - x_mean).dot((y - y_mean))\n",
    "    nvar_x = np.sum((x-x_mean)**2.)\n",
    "    return ncov_xy/nvar_x\n",
    "\n",
    "w1 = w1_estimate1D(X, y)\n",
    "w0 = w0_estimate1D(X, y, w1)\n",
    "print (w0, w1)\n"
   ]
  },
  {
   "cell_type": "code",
   "execution_count": null,
   "id": "54a20d78",
   "metadata": {},
   "outputs": [],
   "source": []
  }
 ],
 "metadata": {
  "kernelspec": {
   "display_name": "Python 3",
   "language": "python",
   "name": "python3"
  },
  "language_info": {
   "codemirror_mode": {
    "name": "ipython",
    "version": 3
   },
   "file_extension": ".py",
   "mimetype": "text/x-python",
   "name": "python",
   "nbconvert_exporter": "python",
   "pygments_lexer": "ipython3",
   "version": "3.8.2"
  }
 },
 "nbformat": 4,
 "nbformat_minor": 5
}

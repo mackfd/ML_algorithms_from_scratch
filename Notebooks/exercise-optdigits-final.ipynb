{
 "cells": [
  {
   "cell_type": "markdown",
   "id": "5f3deb7b",
   "metadata": {},
   "source": [
    "# Classifying Images of Digits"
   ]
  },
  {
   "cell_type": "markdown",
   "id": "focal-startup",
   "metadata": {},
   "source": [
    "1. Have a visual inspection into the optical digit data from UCI. Use as many classification models as you have available in your own library to apply the training data on them.\n",
    "2. Evaluate the models with respect to precision, recall and f1-score and print a confusion table.\n",
    "3. For the decision tree, interchange the possible impurity functions and see which of the decision tree models works best."
   ]
  },
  {
   "cell_type": "markdown",
   "id": "8cd6eacd",
   "metadata": {},
   "source": [
    "## Load Data"
   ]
  },
  {
   "cell_type": "code",
   "execution_count": 3,
   "id": "6fa23cb6",
   "metadata": {
    "scrolled": true
   },
   "outputs": [
    {
     "name": "stderr",
     "output_type": "stream",
     "text": [
      "  % Total    % Received % Xferd  Average Speed   Time    Time     Time  Current\n",
      "                                 Dload  Upload   Total   Spent    Left  Speed\n",
      "\n",
      "  0     0    0     0    0     0      0      0 --:--:-- --:--:-- --:--:--     0\n",
      "  3  550k    3 20108    0     0  20108      0  0:00:28 --:--:--  0:00:28 22980\n",
      "100  550k  100  550k    0     0   550k      0  0:00:01  0:00:01 --:--:--  342k\n",
      "  % Total    % Received % Xferd  Average Speed   Time    Time     Time  Current\n",
      "                                 Dload  Upload   Total   Spent    Left  Speed\n",
      "\n",
      "  0     0    0     0    0     0      0      0 --:--:-- --:--:-- --:--:--     0\n",
      "  0     0    0     0    0     0      0      0 --:--:-- --:--:-- --:--:--     0\n",
      " 84  258k   84  217k    0     0   217k      0  0:00:01  0:00:01 --:--:--  196k\n",
      "100  258k  100  258k    0     0   258k      0  0:00:01  0:00:01 --:--:--  232k\n",
      "  % Total    % Received % Xferd  Average Speed   Time    Time     Time  Current\n",
      "                                 Dload  Upload   Total   Spent    Left  Speed\n",
      "\n",
      "  0     0    0     0    0     0      0      0 --:--:-- --:--:-- --:--:--     0\n",
      "100  2439  100  2439    0     0   2439      0  0:00:01 --:--:--  0:00:01  6007\n",
      "'cat' is not recognized as an internal or external command,\n",
      "operable program or batch file.\n"
     ]
    }
   ],
   "source": [
    "# shell scripts for downloading the data and placing it in a corresponding directory\n",
    "!mkdir optdigits \n",
    "!curl -o optdigits/data.train \"http://archive.ics.uci.edu/ml/machine-learning-databases/optdigits/optdigits.tra\"\n",
    "!curl -o optdigits/data.test \"http://archive.ics.uci.edu/ml/machine-learning-databases/optdigits/optdigits.tes\"\n",
    "!curl -o optdigits/description \"http://archive.ics.uci.edu/ml/machine-learning-databases/optdigits/optdigits.names\"\n",
    "# download the description and display it here.\n",
    "!cat optdigits/description"
   ]
  },
  {
   "cell_type": "markdown",
   "id": "dc030748",
   "metadata": {},
   "source": [
    "## Imports"
   ]
  },
  {
   "cell_type": "code",
   "execution_count": 1,
   "id": "ad474e4f",
   "metadata": {},
   "outputs": [],
   "source": [
    "import numpy as np\n",
    "import pandas as pd\n",
    "import matplotlib.pyplot as plt"
   ]
  },
  {
   "cell_type": "markdown",
   "id": "three-first",
   "metadata": {},
   "source": [
    "Let's have a look into the downloaded data file for training."
   ]
  },
  {
   "cell_type": "code",
   "execution_count": 6,
   "id": "902ec2b0",
   "metadata": {},
   "outputs": [
    {
     "name": "stderr",
     "output_type": "stream",
     "text": [
      "'head' is not recognized as an internal or external command,\n",
      "operable program or batch file.\n"
     ]
    }
   ],
   "source": [
    "!head -n 5 optdigits/data.train"
   ]
  },
  {
   "cell_type": "markdown",
   "id": "sensitive-zimbabwe",
   "metadata": {},
   "source": [
    "Apparently, it's a comma-separated file with 64 pixel intensity values and one class value."
   ]
  },
  {
   "cell_type": "code",
   "execution_count": 2,
   "id": "fa6b9f32",
   "metadata": {},
   "outputs": [],
   "source": [
    "df_train = pd.read_csv(\"./optdigits/data.train\", header=None)\n",
    "df_test = pd.read_csv(\"./optdigits/data.test\", header=None)"
   ]
  },
  {
   "cell_type": "markdown",
   "id": "figured-guidance",
   "metadata": {},
   "source": [
    "We can put the data into memory and bring it in a numpy-format so that we can feed it into our models."
   ]
  },
  {
   "cell_type": "code",
   "execution_count": 3,
   "id": "f5bb0b40",
   "metadata": {},
   "outputs": [],
   "source": [
    "X_training, y_training = df_train.loc[:,0:63], df_train.loc[:,64]\n",
    "X_testing, y_testing = df_test.loc[:,0:63], df_test.loc[:,64]\n",
    "X_train = X_training.to_numpy().reshape(-1, 8, 8)\n",
    "X_test = X_testing.to_numpy().reshape(-1, 8, 8)\n",
    "y_train = y_training.to_numpy()\n",
    "y_test = y_testing.to_numpy()"
   ]
  },
  {
   "cell_type": "code",
   "execution_count": 39,
   "id": "2b419c61",
   "metadata": {},
   "outputs": [
    {
     "data": {
      "text/plain": [
       "array([0, 0, 7, ..., 6, 6, 7], dtype=int64)"
      ]
     },
     "execution_count": 39,
     "metadata": {},
     "output_type": "execute_result"
    }
   ],
   "source": [
    "y_train"
   ]
  },
  {
   "cell_type": "markdown",
   "id": "olympic-decade",
   "metadata": {},
   "source": [
    "A single data element looks like:"
   ]
  },
  {
   "cell_type": "code",
   "execution_count": 5,
   "id": "531ac7d7",
   "metadata": {},
   "outputs": [
    {
     "data": {
      "text/plain": [
       "<matplotlib.image.AxesImage at 0x7f85ea1c4190>"
      ]
     },
     "execution_count": 5,
     "metadata": {},
     "output_type": "execute_result"
    },
    {
     "data": {
      "image/png": "[encoded data removed]",
      "text/plain": [
       "<Figure size 432x288 with 1 Axes>"
      ]
     },
     "metadata": {
      "needs_background": "light"
     },
     "output_type": "display_data"
    }
   ],
   "source": [
    "plt.imshow(X_train[0])"
   ]
  },
  {
   "cell_type": "markdown",
   "id": "28f3aeaa",
   "metadata": {},
   "source": [
    "# Change log fro binary to multiclass classification for Logistic regression\n",
    "as we are having not binary classification but multiclass we must:\n",
    "1. implement Cross entropy loss function\n",
    "2. change activation function from sigmoig to softmax\n",
    "3. change weights initialization approach \n",
    "4. additionaly to compute loss we must perform encoding of true target values \n",
    "5. change prediction function "
   ]
  },
  {
   "cell_type": "markdown",
   "id": "ecf12141",
   "metadata": {},
   "source": [
    "### Loss function to implement"
   ]
  },
  {
   "attachments": {
    "image.png": {
     "image/png": "[encoded data removed]"
    }
   },
   "cell_type": "markdown",
   "id": "2719acfa",
   "metadata": {},
   "source": [
    "![image.png](attachment:image.png)"
   ]
  },
  {
   "cell_type": "code",
   "execution_count": 126,
   "id": "352a22c8",
   "metadata": {},
   "outputs": [],
   "source": [
    "class Logistic_regression_grad():\n",
    "    \n",
    "    def _sigmoid(self, z):\n",
    "        return 1 / (1 + np.exp(-z))\n",
    "    \n",
    "    def _ce_loss(self,y_true, y_hat):\n",
    "        \n",
    "        # first part of the function is to perform one hot encode among 10 classes\n",
    "        # it is an alternative to function _one_hot(below), but output os the same\n",
    "        # in other words we can say that we constract ground true vectors\n",
    "        # Examples: \n",
    "        # input value = 0 , so encoded output among 10 classes -> [1,0,0,0,0,0,0,0,0,0]\n",
    "        # or input value = 7, so encoded output among 10 classes -> [0,0,0,0,0,0,0,7,0,0]\n",
    "        #\n",
    "        # this encoding is necessary to compute correctly loss \n",
    "        # in loss function we multiply log form of predcited probability of a class by encoded versio nof true class\n",
    "        # Example:\n",
    "        # encoded true vector = [1,0,0,0,0,0,0,0,0,0], \n",
    "        # while predictions [0.0059, 0.0110, 0.00267, 0.1562, 0.00068, 0.4192, 0.02406, 0.3666, 0.0111, 0.00236] \n",
    "        # so output of multiplication will be -5.11922341 because of logarifm\n",
    "        # without logarifm = 0.0059\n",
    "        # summing up across of obresvations will give us final loss results \n",
    "        \n",
    "        y_encoded = []\n",
    "        res = 0\n",
    "        for i in range(len(y_true)):\n",
    "            s = np.zeros(self.num_of_class)\n",
    "            s[y_true[i]] =1 \n",
    "            y_encoded.append(s)\n",
    "        \n",
    "        for i in range(len(y_true)):\n",
    "            opa = -1.* sum(y_encoded[i]*np.log(y_hat[i]))\n",
    "            res+=opa\n",
    "        return res/len(y_true)\n",
    "    \n",
    "    def _softmax(self,z):\n",
    "\n",
    "        # subtracting the max of z for numerical stability.\n",
    "        exp = np.exp(z - np.max(z))\n",
    "        \n",
    "        # Calculating softmax for all examples.\n",
    "        for i in range(len(z)):\n",
    "            exp[i] /= np.sum(exp[i])\n",
    "            \n",
    "        return exp\n",
    "    \n",
    "    def _one_hot(self,y):\n",
    "\n",
    "        # zero matrix of size (m, num_of_class)\n",
    "        # it is just a template to perform one hot encode\n",
    "        y_hot = np.zeros((len(y), self.num_of_class))\n",
    "\n",
    "        y_hot[np.arange(len(y)), y] = 1\n",
    "\n",
    "        return y_hot\n",
    "    \n",
    "    def train(self, x, y, epochs, batch_size, lr, num_of_class):\n",
    "    \n",
    "        row, col = x.shape\n",
    "        self.batch_size = batch_size\n",
    "        self.lr = lr # lerning rate\n",
    "        self.num_of_class = num_of_class\n",
    "        # initialize weights\n",
    "        self.w = np.random.rand(col, self.num_of_class)/ np.sqrt(col)\n",
    "        self.w0 = 1\n",
    "        # list to store computed losses\n",
    "        self.losses = []\n",
    "        # defining bath size\n",
    "        num_batches = x.shape[0]//self.batch_size\n",
    "        \n",
    "        for epoch in range(epochs):\n",
    "            print(\"epoch: \", epoch)\n",
    "            for batch_num in range(num_batches+1):\n",
    "                \n",
    "                # slicing data by batch \n",
    "                start = batch_num * self.batch_size\n",
    "                end = (batch_num + 1) * self.batch_size\n",
    "                \n",
    "                x_batched = x[start:end]\n",
    "                y_batched = y[start:end]\n",
    "\n",
    "                y_hat = self._softmax(np.dot(x_batched, self.w) + self.w0)\n",
    "    \n",
    "                # IMPORTANT: \n",
    "                # to one hot function pass y_batched as 1-d array flat , NOT A COLUMN!!\n",
    "                y_hot = self._one_hot(y_batched)\n",
    "\n",
    "                error = y_hat - y_hot\n",
    "         \n",
    "                loss = self._ce_loss(y_batched, y_hat)\n",
    "                self.losses.append(loss)\n",
    "                \n",
    "                gradient_w = (1/self.batch_size)*np.dot(x_batched.T, error)\n",
    "                gradient_w0 = (1/self.batch_size)*np.sum(error) \n",
    "                \n",
    "                # adjusting weights/theta with learning rate annd calculated gradient \n",
    "                self.w -= self.lr*gradient_w\n",
    "                self.w0 -= self.lr*gradient_w0\n",
    "                     \n",
    "        return self.losses, self.w, self.w0        \n",
    "    \n",
    "    def predict(self, x_test):\n",
    "        \n",
    "        # predict on text data with calculated weigths/theta\n",
    "        y_hat = self._softmax(np.dot(x_test, self.w) + self.w0)\n",
    "\n",
    "        predictions_array = np.argmax(y_hat, axis=1)\n",
    "\n",
    "        return predictions_array"
   ]
  },
  {
   "cell_type": "code",
   "execution_count": 12,
   "id": "62d6ab90",
   "metadata": {},
   "outputs": [],
   "source": [
    "# changing shapes from 3d to 2d \n",
    "X_train  = X_train.reshape(3823,64)"
   ]
  },
  {
   "cell_type": "code",
   "execution_count": 14,
   "id": "0e797e35",
   "metadata": {},
   "outputs": [
    {
     "data": {
      "text/plain": [
       "(3823, 64)"
      ]
     },
     "execution_count": 14,
     "metadata": {},
     "output_type": "execute_result"
    }
   ],
   "source": [
    "X_train.shape"
   ]
  },
  {
   "cell_type": "code",
   "execution_count": 73,
   "id": "a6a130bd",
   "metadata": {},
   "outputs": [
    {
     "data": {
      "text/plain": [
       "(1797, 8, 8)"
      ]
     },
     "execution_count": 73,
     "metadata": {},
     "output_type": "execute_result"
    }
   ],
   "source": [
    "X_test.shape"
   ]
  },
  {
   "cell_type": "code",
   "execution_count": 74,
   "id": "58f4a3d2",
   "metadata": {},
   "outputs": [],
   "source": [
    "X_test = X_test.reshape(1797,64)"
   ]
  },
  {
   "cell_type": "code",
   "execution_count": 61,
   "id": "b62a1015",
   "metadata": {},
   "outputs": [],
   "source": [
    "# supressing engineering display of numerical data in numpy\n",
    "np.set_printoptions(suppress=True) "
   ]
  },
  {
   "cell_type": "code",
   "execution_count": 127,
   "id": "74a1757a",
   "metadata": {},
   "outputs": [],
   "source": [
    "model = Logistic_regression_grad()"
   ]
  },
  {
   "cell_type": "code",
   "execution_count": 128,
   "id": "e8a7d276",
   "metadata": {},
   "outputs": [
    {
     "name": "stdout",
     "output_type": "stream",
     "text": [
      "epoch:  0\n",
      "epoch:  1\n",
      "epoch:  2\n",
      "epoch:  3\n",
      "epoch:  4\n"
     ]
    }
   ],
   "source": [
    "losses,w, w0=  model.train(X_train,y_train, 5, 200, 0.01, 10)"
   ]
  },
  {
   "cell_type": "code",
   "execution_count": 129,
   "id": "7bca7cca",
   "metadata": {},
   "outputs": [
    {
     "data": {
      "text/plain": [
       "[<matplotlib.lines.Line2D at 0x1e3b2ecd970>]"
      ]
     },
     "execution_count": 129,
     "metadata": {},
     "output_type": "execute_result"
    },
    {
     "data": {
      "image/png": "[encoded data removed]",
      "text/plain": [
       "<Figure size 432x288 with 1 Axes>"
      ]
     },
     "metadata": {
      "needs_background": "light"
     },
     "output_type": "display_data"
    }
   ],
   "source": [
    "plt.plot(losses)"
   ]
  },
  {
   "cell_type": "code",
   "execution_count": 130,
   "id": "ff0cbf48",
   "metadata": {},
   "outputs": [],
   "source": [
    "p_array = model.predict(X_test)"
   ]
  },
  {
   "cell_type": "code",
   "execution_count": 131,
   "id": "cdb03f97",
   "metadata": {},
   "outputs": [
    {
     "name": "stdout",
     "output_type": "stream",
     "text": [
      "Correct: 1654\n",
      "Incorrect: 143\n",
      "Accuracy: 92.04%\n"
     ]
    }
   ],
   "source": [
    "correct = sum(y_test ==p_array)\n",
    "incorrect = len(y_test) - correct\n",
    "print(\"Correct: {}\".format(correct))\n",
    "print(\"Incorrect: {}\".format(incorrect))\n",
    "print(\"Accuracy: {:2.2%}\".format(correct/len(y_test)))"
   ]
  }
 ],
 "metadata": {
  "kernelspec": {
   "display_name": "Python 3",
   "language": "python",
   "name": "python3"
  },
  "language_info": {
   "codemirror_mode": {
    "name": "ipython",
    "version": 3
   },
   "file_extension": ".py",
   "mimetype": "text/x-python",
   "name": "python",
   "nbconvert_exporter": "python",
   "pygments_lexer": "ipython3",
   "version": "3.9.5"
  }
 },
 "nbformat": 4,
 "nbformat_minor": 5
}
